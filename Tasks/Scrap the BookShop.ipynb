{
 "cells": [
  {
   "cell_type": "code",
   "execution_count": 1,
   "id": "f9ea8ee9",
   "metadata": {},
   "outputs": [],
   "source": [
    "import csv\n",
    "import requests\n",
    "from bs4 import BeautifulSoup\n",
    "\n",
    "# Specify the base URL with a placeholder for the page number\n",
    "base_url = 'https://books.toscrape.com/catalogue/page-{}.html'\n",
    "\n",
    "# Open a CSV file in write mode\n",
    "with open('books_data.csv', 'w', newline='', encoding='utf-8') as csv_file:\n",
    "    # Create a CSV writer object\n",
    "    csv_writer = csv.writer(csv_file)\n",
    "\n",
    "    # Write the header row to the CSV file\n",
    "    csv_writer.writerow(['Title', 'Price', 'Rating'])\n",
    "\n",
    "    page_number = 1\n",
    "\n",
    "    # Loop through multiple pages\n",
    "    while True:\n",
    "        url = base_url.format(page_number)\n",
    "\n",
    "        # Send an HTTP GET request to the URL\n",
    "        response = requests.get(url)\n",
    "        if response.status_code != 200:\n",
    "            break\n",
    "\n",
    "        html_content = response.content\n",
    "\n",
    "        # Create a BeautifulSoup object to parse the HTML content\n",
    "        soup = BeautifulSoup(html_content, 'html.parser')\n",
    "\n",
    "        # Find all book article elements on the page\n",
    "        books = soup.find_all('article', class_='product_pod')\n",
    "\n",
    "        # Loop through each book and extract relevant information\n",
    "        for book in books:\n",
    "            title = book.h3.a['title']\n",
    "            price = book.find('p', class_='price_color').text\n",
    "\n",
    "            rating = 'No rating' if 'star-rating' not in str(book) else book.find('p', class_='star-rating')['class'][-1]\n",
    "\n",
    "            # Write the data to the CSV file\n",
    "            csv_writer.writerow([title, price, rating])\n",
    "\n",
    "        # Move to the next page\n",
    "        page_number += 1\n"
   ]
  },
  {
   "cell_type": "code",
   "execution_count": null,
   "id": "a0eacdc1",
   "metadata": {},
   "outputs": [],
   "source": []
  }
 ],
 "metadata": {
  "kernelspec": {
   "display_name": "Python 3 (ipykernel)",
   "language": "python",
   "name": "python3"
  },
  "language_info": {
   "codemirror_mode": {
    "name": "ipython",
    "version": 3
   },
   "file_extension": ".py",
   "mimetype": "text/x-python",
   "name": "python",
   "nbconvert_exporter": "python",
   "pygments_lexer": "ipython3",
   "version": "3.11.5"
  },
  "varInspector": {
   "cols": {
    "lenName": 16,
    "lenType": 16,
    "lenVar": 40
   },
   "kernels_config": {
    "python": {
     "delete_cmd_postfix": "",
     "delete_cmd_prefix": "del ",
     "library": "var_list.py",
     "varRefreshCmd": "print(var_dic_list())"
    },
    "r": {
     "delete_cmd_postfix": ") ",
     "delete_cmd_prefix": "rm(",
     "library": "var_list.r",
     "varRefreshCmd": "cat(var_dic_list()) "
    }
   },
   "types_to_exclude": [
    "module",
    "function",
    "builtin_function_or_method",
    "instance",
    "_Feature"
   ],
   "window_display": false
  }
 },
 "nbformat": 4,
 "nbformat_minor": 5
}
