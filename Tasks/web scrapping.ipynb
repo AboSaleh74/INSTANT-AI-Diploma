{
 "cells": [
  {
   "cell_type": "code",
   "execution_count": 5,
   "id": "9eb51c52",
   "metadata": {},
   "outputs": [],
   "source": [
    "import requests\n",
    "from bs4 import BeautifulSoup\n",
    "import csv"
   ]
  },
  {
   "cell_type": "code",
   "execution_count": 6,
   "id": "58a4e5d3",
   "metadata": {},
   "outputs": [],
   "source": [
    "url = \"https://www.yallakora.com/match-center/?date=12/23/2023\"\n",
    "page_request = requests.get(url)\n",
    "page_content = page_request.content"
   ]
  },
  {
   "cell_type": "code",
   "execution_count": 7,
   "id": "92695dfe",
   "metadata": {},
   "outputs": [],
   "source": [
    "soup = BeautifulSoup(page_content,\"lxml\")"
   ]
  },
  {
   "cell_type": "code",
   "execution_count": 58,
   "id": "d84f74f6",
   "metadata": {},
   "outputs": [],
   "source": [
    "championship = soup.find_all(\"div\",{'class' : 'matchCard'})"
   ]
  },
  {
   "cell_type": "code",
   "execution_count": 66,
   "id": "e07e09f3",
   "metadata": {},
   "outputs": [
    {
     "name": "stdout",
     "output_type": "stream",
     "text": [
      "الدوري الإنجليزي \n",
      "\n",
      "وست هام يونايتد 2-0 مانشستر يونايتد\n",
      " 14:30\n",
      "بى ان سبورت 1HD\n",
      "\n",
      "توتنهام هوتسبر 2-1 ايفرتون\n",
      " 17:00\n",
      "بى ان سبورت 1HD\n",
      "\n",
      "نوتينجهام فورست 2-3 بورنموث\n",
      " 17:00\n",
      "بى ان سبورت 4 HD\n",
      "\n",
      "لوتون تاون 1-0 نيوكاسل\n",
      " 17:00\n",
      "بى ان سبورت 2 HD\n",
      "\n",
      "فولهام 0-2 بيرنلي\n",
      " 17:00\n",
      "بى ان سبورت 5 HD\n",
      "\n",
      "ليفربول 1-1 أرسنال\n",
      " 19:30\n",
      "بى ان سبورت 1HD\n",
      "\n",
      "##############################\n",
      "الدوري الإسباني \n",
      "\n",
      "اتلتيكو مدريد 1-0 اشبيلية\n",
      " 17:15\n",
      "بى ان سبورت 3 HD\n",
      "\n",
      "##############################\n",
      "الدوري السعودي \n",
      "\n",
      "التعاون 1-3 الفتح\n",
      " 17:00\n",
      "N/A\n",
      "\n",
      "الاتحاد 1-3 الرائد\n",
      " 20:00\n",
      "N/A\n",
      "\n",
      "##############################\n",
      "الدوري الإيطالي \n",
      "\n",
      "فروزينوني 1-2 يوفنتوس\n",
      " 13:30\n",
      "Starz Play App\n",
      "\n",
      "بولونيا 1-0 أتالانتا\n",
      " 16:00\n",
      "Starz Play App\n",
      "\n",
      "تورينو 1-1 أودينيزي\n",
      " 16:00\n",
      "Starz Play App\n",
      "\n",
      "هيلاس فيرونا 2-0 كالياري\n",
      " 19:00\n",
      "N/A\n",
      "\n",
      "إنتر ميلان 2-0 ليتشي\n",
      " 19:00\n",
      "N/A\n",
      "\n",
      "روما 2-0 نابولي\n",
      " 21:45\n",
      "N/A\n",
      "\n",
      "##############################\n",
      "الدوري المغربي \n",
      "\n",
      "الوداد البيضاوي 1-0 يوسفية برشيد\n",
      " 19:00\n",
      "N/A\n",
      "\n",
      "##############################\n",
      "الدوري التركي \n",
      "\n",
      "سيفاسبور 1-0 إسطنبول سبور\n",
      " 12:30\n",
      "N/A\n",
      "\n",
      "فاتح كاراجومروك 0-3 غازي عنتاب بي.بي.كي\n",
      " 15:00\n",
      "N/A\n",
      "\n",
      "طرابزون سبور 1-1 إسطنبول باشاكشهير\n",
      " 18:00\n",
      "N/A\n",
      "\n",
      "##############################\n",
      "الدوري البرتغالي \n",
      "\n",
      "فيتوريا جيماريش 1-0 ريو آفي\n",
      " 17:30\n",
      "N/A\n",
      "\n",
      "فيزيلا 0-0 موريرنسي\n",
      " 17:30\n",
      "N/A\n",
      "\n",
      "##############################\n",
      "الدوري الإماراتي \n",
      "\n",
      "النصر الإماراتي 2-1 نادي الامارات\n",
      " 14:45\n",
      "N/A\n",
      "\n",
      "الجــزيرة 3-1 حتا\n",
      " 14:45\n",
      "N/A\n",
      "\n",
      "بني ياس 2-1 اتحاد كلباء\n",
      " 17:30\n",
      "N/A\n",
      "\n",
      "##############################\n"
     ]
    }
   ],
   "source": [
    "matches_details = []\n",
    "for i in range (len(championship)):\n",
    "    championship_title = championship[i].contents[1].find('h2').text.strip()\n",
    "    print(championship_title,'\\n')\n",
    "    matches = championship[i].contents[3].find_all(\"div\",{'class':'teamCntnr'})\n",
    "    matches_channels = championship[i].contents[3].find(\"div\",{'class':'channel icon-channel'})\n",
    "    for j in range (len(matches)):\n",
    "        team_A = matches[j].contents[1].find('div',class_=\"teamA\").find('p').text.strip()\n",
    "        team_B = matches[j].contents[1].find('div',class_=\"teamB\").find('p').text.strip()  \n",
    "        score =  matches[j].contents[1].find('div',class_=\"MResult\").find_all('span',{'class':'score'})\n",
    "        score_A = score[0].text.strip()\n",
    "        score_B = score[1].text.strip()\n",
    "        score_all = f'{score_A}-{score_B}'\n",
    "        time = matches[j].contents[1].find('div',class_=\"MResult\").find('span',{'class':'time'}).text.strip()\n",
    "        try:\n",
    "            channel = championship[i].contents[3].find_all(\"div\", {'class': 'channel icon-channel'})[j].text.strip()\n",
    "        except (IndexError, AttributeError) as e: \n",
    "            channel = \"N/A\"\n",
    "        \n",
    "        print(f'{team_A} {score_all} {team_B}\\n {time}')\n",
    "        print(f'{channel}\\n')\n",
    "    print('#'*30)"
   ]
  }
 ],
 "metadata": {
  "kernelspec": {
   "display_name": "Python 3 (ipykernel)",
   "language": "python",
   "name": "python3"
  },
  "language_info": {
   "codemirror_mode": {
    "name": "ipython",
    "version": 3
   },
   "file_extension": ".py",
   "mimetype": "text/x-python",
   "name": "python",
   "nbconvert_exporter": "python",
   "pygments_lexer": "ipython3",
   "version": "3.11.5"
  },
  "varInspector": {
   "cols": {
    "lenName": 16,
    "lenType": 16,
    "lenVar": 40
   },
   "kernels_config": {
    "python": {
     "delete_cmd_postfix": "",
     "delete_cmd_prefix": "del ",
     "library": "var_list.py",
     "varRefreshCmd": "print(var_dic_list())"
    },
    "r": {
     "delete_cmd_postfix": ") ",
     "delete_cmd_prefix": "rm(",
     "library": "var_list.r",
     "varRefreshCmd": "cat(var_dic_list()) "
    }
   },
   "types_to_exclude": [
    "module",
    "function",
    "builtin_function_or_method",
    "instance",
    "_Feature"
   ],
   "window_display": false
  }
 },
 "nbformat": 4,
 "nbformat_minor": 5
}
